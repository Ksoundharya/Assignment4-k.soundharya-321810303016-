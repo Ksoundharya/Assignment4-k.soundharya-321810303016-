{
 "cells": [
  {
   "cell_type": "markdown",
   "metadata": {},
   "source": [
    "1.find the maximum of three numbers"
   ]
  },
  {
   "cell_type": "code",
   "execution_count": 4,
   "metadata": {},
   "outputs": [
    {
     "name": "stdout",
     "output_type": "stream",
     "text": [
      "enter the first number:79\n",
      "enter the second number:56\n",
      "enter the third number:90\n",
      "maximum  number is : 90\n"
     ]
    }
   ],
   "source": [
    "def maximum(a, b, c):\n",
    "    if a>b and b>c:\n",
    "        return a\n",
    "    elif b<a and b>c:\n",
    "        return b\n",
    "    else:\n",
    "        return c\n",
    "a=int(input(\"enter the first number:\"))\n",
    "b=int(input(\"enter the second number:\"))\n",
    "c=int(input(\"enter the third number:\"))\n",
    "s=maximum(a, b, c)\n",
    "print(\"maximum  number is :\",s)"
   ]
  },
  {
   "cell_type": "code",
   "execution_count": null,
   "metadata": {},
   "outputs": [],
   "source": [
    "2.write python program to reverse a string?"
   ]
  },
  {
   "cell_type": "code",
   "execution_count": 11,
   "metadata": {},
   "outputs": [
    {
     "name": "stdout",
     "output_type": "stream",
     "text": [
      "enter the string:reddys\n",
      "the original string is:\n",
      "reddys\n",
      "the reverse string is:\n",
      "sydder\n"
     ]
    }
   ],
   "source": [
    "def reverse(s):\n",
    "    if len(s)==0:\n",
    "        return s\n",
    "    else:\n",
    "        return reverse(s[1 :])+s[0]\n",
    "s=input('enter the string:')\n",
    "print(\"the original string is:\")\n",
    "print(s)\n",
    "print(\"the reverse string is:\")\n",
    "print(reverse(s))"
   ]
  },
  {
   "cell_type": "markdown",
   "metadata": {},
   "source": [
    "3.to check whether the number is prime or not"
   ]
  },
  {
   "cell_type": "code",
   "execution_count": 17,
   "metadata": {},
   "outputs": [
    {
     "name": "stdout",
     "output_type": "stream",
     "text": [
      "enter the number:5\n",
      "it is a prime number\n"
     ]
    }
   ],
   "source": [
    "def prime(a):\n",
    "    if a>1:\n",
    "        for i in range(2,a):\n",
    "            if(a%i)==0:\n",
    "                return 0\n",
    "                break\n",
    "            else:\n",
    "                return 1\n",
    "    else:\n",
    "        return 1\n",
    "a=int(input(\"enter the number:\"))\n",
    "if(prime(a)):\n",
    "      print(\"it is a prime number\")\n",
    "else:\n",
    "      print(\"it is not a prime number\")"
   ]
  },
  {
   "cell_type": "markdown",
   "metadata": {},
   "source": [
    "4.use try,except,else and finally block to check whether the numberis palindrome or not"
   ]
  },
  {
   "cell_type": "code",
   "execution_count": 20,
   "metadata": {},
   "outputs": [
    {
     "name": "stdout",
     "output_type": "stream",
     "text": [
      "enter the number:kesam\n",
      "that not a valid number:\n",
      "this block is always executed\n"
     ]
    }
   ],
   "source": [
    "num=input(\"enter the number:\")\n",
    "try:\n",
    "    val=int(num)\n",
    "    if num==str(num)[::-1]:\n",
    "        print(\"the given number is palindrome:\")\n",
    "    else:\n",
    "        print(\"the given number is not a palindrome:\")\n",
    "except ValueError:\n",
    "    print(\"that not a valid number:\")\n",
    "finally:\n",
    "    print(\"this block is always executed\")\n",
    "        "
   ]
  },
  {
   "cell_type": "code",
   "execution_count": null,
   "metadata": {},
   "outputs": [],
   "source": [
    "5.to find sum of squares of first n na"
   ]
  },
  {
   "cell_type": "code",
   "execution_count": null,
   "metadata": {},
   "outputs": [],
   "source": [
    "n=int(input(\"enter the number which u want:\"))\n",
    "i=1\n",
    "sum=0\n",
    "while(i<=n):\n",
    "    sum=sum+(i*i)\n",
    "    i=i+1\n",
    "print(\"sum=\",sum)"
   ]
  }
 ],
 "metadata": {
  "kernelspec": {
   "display_name": "Python 3",
   "language": "python",
   "name": "python3"
  },
  "language_info": {
   "codemirror_mode": {
    "name": "ipython",
    "version": 3
   },
   "file_extension": ".py",
   "mimetype": "text/x-python",
   "name": "python",
   "nbconvert_exporter": "python",
   "pygments_lexer": "ipython3",
   "version": "3.7.4"
  }
 },
 "nbformat": 4,
 "nbformat_minor": 2
}
